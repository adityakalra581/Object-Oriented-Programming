{
 "cells": [
  {
   "cell_type": "markdown",
   "metadata": {},
   "source": [
    "\n",
    "   **Python Inheritance**. Inheritance allows us to define a class that inherits all the methods and properties from another class. $Parent class$ is the class being inherited from, also called base class. $Child class$ is the class that inherits from another class, also called derived class.    \n",
    "\n",
    "\n",
    "\n",
    "    \n",
    "\n"
   ]
  },
  {
   "cell_type": "markdown",
   "metadata": {},
   "source": [
    "**Example of Inheritance**\n",
    "\n",
    "![](in.png)"
   ]
  },
  {
   "cell_type": "code",
   "execution_count": 1,
   "metadata": {},
   "outputs": [
    {
     "name": "stdout",
     "output_type": "stream",
     "text": [
      "Burj\n",
      "silver\n",
      "20\n",
      "yes\n",
      "yes\n",
      "400\n",
      "Yes\n",
      "None\n"
     ]
    }
   ],
   "source": [
    "# parent class \n",
    "class Buildings:\n",
    "    def __init__(self,name,height,color):\n",
    "        self.name=name\n",
    "        self.height=height\n",
    "        self.color=color\n",
    "\n",
    "    def Color(self):\n",
    "        return self.color\n",
    "    def Height(self):\n",
    "        return self.height\n",
    "\n",
    "\n",
    "    \n",
    "## Children class: This will have all the properties of parent class\n",
    "   # also it can have it's own functionalities and properties.\n",
    "\n",
    "# This is the advantage over Class-object relationship.\n",
    "\n",
    "class Smart(Buildings):\n",
    "    storeys=20\n",
    "    elevator='yes'\n",
    "    parking='yes'\n",
    "\n",
    "    def Storeys(self):\n",
    "        print(storeys)\n",
    "    def Elevator(self):\n",
    "        return elevator\n",
    "    def HOT(self):\n",
    "        print('Yes')\n",
    "\n",
    "\n",
    "\n",
    "# Creating first object:\n",
    "smart=Smart('Burj',400,'silver')\n",
    "\n",
    "\n",
    "# calling the functions and properties :\n",
    "\n",
    "# For functions:\n",
    "# Syntax: object_name.function_name()\n",
    "\n",
    "#For Properties/feature:\n",
    "# Syntax: object_name.property/feature_name\n",
    "\n",
    "print(smart.name)\n",
    "print(smart.Color())\n",
    "print(smart.storeys)\n",
    "print(smart.elevator)\n",
    "print(smart.parking)\n",
    "print(smart.Height())\n",
    "print(smart.HOT())\n",
    "\n",
    "    # print(smart.Storeys()) This is not working.\n",
    "    # print(smart.Elevator())  this too"
   ]
  },
  {
   "cell_type": "code",
   "execution_count": null,
   "metadata": {},
   "outputs": [],
   "source": []
  }
 ],
 "metadata": {
  "kernelspec": {
   "display_name": "Python 3",
   "language": "python",
   "name": "python3"
  },
  "language_info": {
   "codemirror_mode": {
    "name": "ipython",
    "version": 3
   },
   "file_extension": ".py",
   "mimetype": "text/x-python",
   "name": "python",
   "nbconvert_exporter": "python",
   "pygments_lexer": "ipython3",
   "version": "3.7.3"
  }
 },
 "nbformat": 4,
 "nbformat_minor": 2
}
