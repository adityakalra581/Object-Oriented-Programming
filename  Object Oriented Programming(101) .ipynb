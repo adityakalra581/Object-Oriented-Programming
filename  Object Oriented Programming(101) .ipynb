{
 "cells": [
  {
   "cell_type": "markdown",
   "metadata": {},
   "source": [
    "$Object-oriented programming$ is a programming paradigm based on the concept of \"objects\", which can contain data, in the form of fields, and code, in the form of procedures. A feature of objects is an object's procedures that can access and often modify the data fields of the object with which they are associated."
   ]
  },
  {
   "cell_type": "markdown",
   "metadata": {},
   "source": [
    "![](oops.png)"
   ]
  },
  {
   "cell_type": "markdown",
   "metadata": {},
   "source": [
    "![](class.png)"
   ]
  },
  {
   "cell_type": "code",
   "execution_count": null,
   "metadata": {},
   "outputs": [],
   "source": [
    "class Cars:\n",
    "    # Cars is a class.\n",
    "    # remember Class Name should  start with a Capital letter. \n",
    "    \n",
    "    # __init__ is a constructor.\n",
    "    #The sole purpose of __init__ is to initialize the values of instance members for the new object.\n",
    "    def __init__(self,name,model,brand,topspeed):\n",
    "        \n",
    "        \n",
    "        #self represents the instance of the class.\n",
    "        #By using the “self” keyword we can access the attributes and methods of the class in python. \n",
    "        #It binds the attributes with the given arguments.\n",
    "        \n",
    "        \n",
    "        self.name=name\n",
    "        self.model=model\n",
    "        self.brand=brand\n",
    "        self.topspeed=topspeed\n",
    "        \n",
    "    def getName(self):\n",
    "        return self.name\n",
    "    def getModel(self):\n",
    "        return self.model\n",
    "    def Topspeed(self):\n",
    "        return self.topspeed\n",
    "    def Brand(self):\n",
    "        return self.brand\n",
    "    \n",
    "# object = car(with small 'c' and no 's')\n",
    "# object name= all small letters\n",
    "\n",
    "car=Cars('X',2000,'Ford',120)\n",
    "print('Object 1 Details')\n",
    "# Let's get the model of our first object.\n",
    "# so the syntax for calling a function is \n",
    "# object.function_name()\n",
    "print(\"The model is:\",car.getModel())\n",
    "print(\"The Name is:\",car.getName())\n",
    "print()\n",
    "print(\"____________________________________\")\n",
    "\n",
    "#another way to find the model.\n",
    "# syntax:\n",
    "#                         object.parameter\n",
    "\n",
    "print()\n",
    "print(\"Also the model is: \",car.model)\n",
    "\n",
    "# similarily we can get anything\n",
    "\n",
    "print(\"Also the topspeed is: \",car.topspeed)\n",
    "print(\"Also the name is: \",car.name)\n",
    "print(\"Also the brand is: \",car.brand)\n",
    "\n",
    "\n",
    "\n",
    "# Creating another object:\n",
    "print()\n",
    "print('____________________________')\n",
    "print('Object 2 Details')\n",
    "c=Cars('Y',2015,'KIA',150)\n",
    "\n",
    "\n",
    "\n",
    "# getting all the information object 'c' using functions only\n",
    "# remember calling a function requires parenthesis.\n",
    "# parameter doesn't.\n",
    "\n",
    "# syntax: object.function_name()\n",
    "# syntax: object.parameter\n",
    "\n",
    "\n",
    "print(\"The brand of c is: \",c.Brand())\n",
    "print(\"The Name of c is: \",c.getName())\n",
    "print(\"The Model of c is: \",c.getModel())\n",
    "print(\"The Top Speed of c is: \",c.Topspeed())\n",
    "        \n",
    "        "
   ]
  }
 ],
 "metadata": {
  "kernelspec": {
   "display_name": "Python 3",
   "language": "python",
   "name": "python3"
  },
  "language_info": {
   "codemirror_mode": {
    "name": "ipython",
    "version": 3
   },
   "file_extension": ".py",
   "mimetype": "text/x-python",
   "name": "python",
   "nbconvert_exporter": "python",
   "pygments_lexer": "ipython3",
   "version": "3.7.3"
  }
 },
 "nbformat": 4,
 "nbformat_minor": 2
}
